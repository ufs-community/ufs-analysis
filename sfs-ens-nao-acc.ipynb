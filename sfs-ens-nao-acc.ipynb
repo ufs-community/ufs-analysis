{
 "cells": [
  {
   "cell_type": "markdown",
   "id": "4990eeff-a5d2-41fe-96c4-f42501820796",
   "metadata": {},
   "source": [
    "<h3> The Notebook computes the NAO index using definition of Jones et al. (1998)</h3> \n",
    " https://doi.org/10.1002/(SICI)1097-0088(19971115)17:13<1433::AID-JOC203>3.0.CO;2-P"
   ]
  },
  {
   "cell_type": "code",
   "execution_count": 1,
   "id": "53313532-9a97-4700-ba0d-6e088fbc885d",
   "metadata": {},
   "outputs": [],
   "source": [
    "import time\n",
    "import numpy as np\n",
    "import matplotlib.pyplot as plt\n",
    "import xarray as xr\n",
    "import pandas as pd\n",
    "import cartopy.crs as ccrs\n",
    "import cartopy.feature as cf\n",
    "from src.datareader import datareader as dr"
   ]
  },
  {
   "cell_type": "markdown",
   "id": "21a06421-e554-414f-a095-92db726337f5",
   "metadata": {},
   "source": [
    "<h3>Initialize Data Readers</h3>"
   ]
  },
  {
   "cell_type": "code",
   "execution_count": 2,
   "id": "d3cbe4f7-7b53-42e7-8f6a-cccd35c2a429",
   "metadata": {},
   "outputs": [
    {
     "name": "stdout",
     "output_type": "stream",
     "text": [
      "Reading data from s3://noaa-oar-sfsdev-pds/experiments/phase_1/baseline/atm_monthly.zarr\n",
      "UFS dataset loaded.\n",
      "Standardizing coordinate system\n",
      "Dataset ready.\n",
      "No filename provided; deferring to default\n",
      "Reading data from gs://gcp-public-data-arco-era5/ar/1959-2022-6h-512x256_equiangular_conservative.zarr/\n",
      "ERA5 dataset loaded.\n",
      "Standardizing coordinate system\n",
      "Sorting lat descending\n",
      "Dataset ready.\n"
     ]
    }
   ],
   "source": [
    "# ufs_data_reader = dr.getDataReader(datasource='UFS', filename=\"experiments/phase_1/baseline/atm_monthly.zarr\", model='atm')\n",
    "# era5_data_reader = dr.getDataReader(datasource='ERA5', filename=\"1959-2022-6h-1440x721.zarr/\") # <-- 6hr, high resolution data\n",
    "\n",
    "ufs_data_reader = dr.getDataReader(datasource='UFS', filename=\"experiments/phase_1/baseline/atm_monthly.zarr\", model='atm')\n",
    "era5_data_reader = dr.getDataReader(datasource='ERA5') # <-- 6hr, lower-resolution data by default"
   ]
  },
  {
   "cell_type": "code",
   "execution_count": null,
   "id": "a59c2c53-3dda-4bf8-9dac-8c963a4948c4",
   "metadata": {},
   "outputs": [],
   "source": [
    "# ufs_data_reader.describe()"
   ]
  },
  {
   "cell_type": "code",
   "execution_count": null,
   "id": "d0b15845-04cd-4499-8bcb-df79459bf0ce",
   "metadata": {},
   "outputs": [],
   "source": [
    "# era5_data_reader.describe()"
   ]
  },
  {
   "cell_type": "markdown",
   "id": "0a4fcd68-8f70-4327-9739-d2015c2f7de4",
   "metadata": {},
   "source": [
    "<h3>Retrieve DataSets</h3>"
   ]
  },
  {
   "cell_type": "code",
   "execution_count": 3,
   "id": "c3932290-5396-4f9b-a68b-8fa0fe15af41",
   "metadata": {},
   "outputs": [],
   "source": [
    "time_range = (\"1994-05-01\",\"2021-05-31T23\")"
   ]
  },
  {
   "cell_type": "code",
   "execution_count": 4,
   "id": "62667df0-fa61-4209-95e0-df55840621da",
   "metadata": {},
   "outputs": [
    {
     "name": "stdout",
     "output_type": "stream",
     "text": [
      "Slicing by init\n",
      "Taking Ensemble Average\n"
     ]
    }
   ],
   "source": [
    "# Retrieve a UFS dataset\n",
    "# The complete dataset is preserved after retrieval\n",
    "ufs_ds = ufs_data_reader.retrieve(\n",
    "    var = 'slp',\n",
    "    time=time_range,\n",
    "    ens_avg=True\n",
    ") "
   ]
  },
  {
   "cell_type": "code",
   "execution_count": null,
   "id": "2de75662-32fb-492c-a3dc-2cbeb208bdd4",
   "metadata": {},
   "outputs": [],
   "source": [
    "# ufs_ds.phi"
   ]
  },
  {
   "cell_type": "code",
   "execution_count": 5,
   "id": "deaceefe-fb43-4d23-9bf6-c4e2c5bf26d1",
   "metadata": {},
   "outputs": [
    {
     "name": "stdout",
     "output_type": "stream",
     "text": [
      "Slicing by time\n"
     ]
    }
   ],
   "source": [
    "# Retrieve an ERA5 dataset \n",
    "# The complete dataset is preserved after retrieval\n",
    "era5_ds = era5_data_reader.retrieve(\n",
    "    var='mean_sea_level_pressure',\n",
    "    time=time_range\n",
    ")"
   ]
  },
  {
   "cell_type": "markdown",
   "id": "c998c20c-a89c-4a2b-9e0e-66206a7231c5",
   "metadata": {},
   "source": [
    "<h3>Calculate NAO Index for UFS and ERA5</h3>\n",
    "The index is defined as the difference between the mean sea level pressure between a station in Iceland (Stykkisholmur [65N, 22.8W)] and a station in Azores [37.7N, 25.7W])"
   ]
  },
  {
   "cell_type": "code",
   "execution_count": 6,
   "id": "8b0ddd7b-1d52-4594-9de5-58fed563d1cc",
   "metadata": {},
   "outputs": [],
   "source": [
    "from climpred import HindcastEnsemble\n",
    "import climpred"
   ]
  },
  {
   "cell_type": "code",
   "execution_count": 9,
   "id": "61c1ec37-5463-4839-bc0f-bda79614fa31",
   "metadata": {},
   "outputs": [],
   "source": [
    "fcstnao = ufs_ds['slp'].sel(lat = 65,lon = 331.2, method = 'nearest')-ufs_ds['slp'].sel(lat = 37.7,lon = 334.3, method = 'nearest')\n",
    "verifnao = era5_ds['mean_sea_level_pressure'].sel(lat = 65,lon = 331.2, method = 'nearest')-era5_ds['mean_sea_level_pressure'].sel(lat = 37.7,lon = 334.3, method = 'nearest')"
   ]
  },
  {
   "cell_type": "markdown",
   "id": "349af446-b9fc-44e0-a8e1-48bb3c92b8f0",
   "metadata": {},
   "source": [
    "<h3> Resample ERA5 to monthly means</h3>"
   ]
  },
  {
   "cell_type": "code",
   "execution_count": 10,
   "id": "14332f47-e2d4-4224-9f99-830231f61b74",
   "metadata": {},
   "outputs": [],
   "source": [
    "verifnao=verifnao.resample(time='MS').mean()"
   ]
  },
  {
   "cell_type": "markdown",
   "id": "b8dec9f1-045c-447f-8323-5128ac3f7be6",
   "metadata": {},
   "source": [
    "<h3>Calculate anomalies</h3>"
   ]
  },
  {
   "cell_type": "code",
   "execution_count": 11,
   "id": "ee562bff-0f6b-4978-b329-f5dce4ffe7b8",
   "metadata": {},
   "outputs": [],
   "source": [
    "fcst = HindcastEnsemble(fcstnao.load())\n",
    "fcst = fcst.add_observations(verifnao.load().rename('slp'))\n",
    "fcst = fcst.remove_seasonality(\"month\")"
   ]
  },
  {
   "cell_type": "markdown",
   "id": "f1bc4957-a8d8-42f2-9fe5-9ab72d298f24",
   "metadata": {},
   "source": [
    "<h3>Calculate anomaly correlation and plot it</h3>"
   ]
  },
  {
   "cell_type": "code",
   "execution_count": 12,
   "id": "620c9156-51fa-48a6-87d7-a1954249600e",
   "metadata": {},
   "outputs": [],
   "source": [
    "result_acc = fcst.verify(metric='acc',comparison='e2o',dim='init',alignment='maximize',groupby='month')"
   ]
  },
  {
   "cell_type": "code",
   "execution_count": 13,
   "id": "37719f4b-5335-4e2b-94fe-f999c0eeb448",
   "metadata": {},
   "outputs": [],
   "source": [
    "skill_acc = np.empty([len(result_acc.lead), 12])\n",
    "skill_acc.fill(np.nan)\n",
    "skill_acc[:,4] = result_acc['slp'][0,:]\n",
    "skill_acc[:,11] = result_acc['slp'][1,:]"
   ]
  },
  {
   "cell_type": "code",
   "execution_count": 16,
   "id": "f0443479-90dc-47dd-b518-cbaaab600d1f",
   "metadata": {},
   "outputs": [
    {
     "data": {
      "text/plain": [
       "Text(0, 0.5, 'Lead Time (Months)')"
      ]
     },
     "execution_count": 16,
     "metadata": {},
     "output_type": "execute_result"
    },
    {
     "data": {
      "image/png": "[encoded data removed]",
      "text/plain": [
       "<Figure size 640x480 with 2 Axes>"
      ]
     },
     "metadata": {},
     "output_type": "display_data"
    }
   ],
   "source": [
    "fig,ax = plt.subplots()\n",
    "pcm = ax.pcolormesh(skill_acc,cmap=plt.cm.YlOrRd,vmin=-0.4,vmax=1.0)\n",
    "fig.colorbar(pcm,ax = ax)\n",
    "ax.set_yticks(np.arange(len(result_acc.lead)))\n",
    "plt.title(\"SFS Baseline NAO Index ACC\")\n",
    "plt.xlabel(\"Initial Month\")\n",
    "plt.ylabel(\"Lead Time (Months)\")"
   ]
  },
  {
   "cell_type": "code",
   "execution_count": 22,
   "id": "8d9e91ac-5c1a-4265-8d4c-bf0da7e0584a",
   "metadata": {},
   "outputs": [
    {
     "data": {
      "text/plain": [
       "Text(0, 0.5, 'ACC')"
      ]
     },
     "execution_count": 22,
     "metadata": {},
     "output_type": "execute_result"
    },
    {
     "data": {
      "image/png": "[encoded data removed]",
      "text/plain": [
       "<Figure size 640x480 with 1 Axes>"
      ]
     },
     "metadata": {},
     "output_type": "display_data"
    }
   ],
   "source": [
    "result_acc.slp.mean(dim='month').to_series().plot(kind=\"bar\")\n",
    "plt.title(\"UFS Baseline PNA Index ACC\")\n",
    "plt.xlabel(\"Lead (Month)\")\n",
    "plt.ylabel(\"ACC\")"
   ]
  },
  {
   "cell_type": "markdown",
   "id": "d0edebbb-54f5-48d4-8c45-6b764d3ddcac",
   "metadata": {},
   "source": [
    "<h3>Compare with CPC ICs</h3>"
   ]
  },
  {
   "cell_type": "code",
   "execution_count": 23,
   "id": "3ba55d3b-c10d-4e2a-9bd3-f5721956d60a",
   "metadata": {},
   "outputs": [],
   "source": [
    "# clean up data no longer neede\n",
    "del ufs_data_reader, ufs_ds, fcst, fcstnao"
   ]
  },
  {
   "cell_type": "markdown",
   "id": "720b64d4-a7b5-4a48-9819-39a302e9b912",
   "metadata": {},
   "source": [
    "<h3>Retrieve DataSets</h3>"
   ]
  },
  {
   "cell_type": "code",
   "execution_count": 24,
   "id": "b1e304a6-5f60-45d6-89f4-4e6250fa9731",
   "metadata": {},
   "outputs": [
    {
     "name": "stdout",
     "output_type": "stream",
     "text": [
      "Reading data from s3://noaa-oar-sfsdev-pds/experiments/phase_1/cpc_ics/atm_monthly.zarr\n",
      "UFS dataset loaded.\n",
      "Standardizing coordinate system\n",
      "Dataset ready.\n"
     ]
    }
   ],
   "source": [
    "ufs_data_reader = dr.getDataReader(datasource='UFS', filename='experiments/phase_1/cpc_ics/atm_monthly.zarr',model='atm')"
   ]
  },
  {
   "cell_type": "code",
   "execution_count": 25,
   "id": "258ab2ae-ba90-485b-911d-a01836ea6773",
   "metadata": {},
   "outputs": [
    {
     "name": "stdout",
     "output_type": "stream",
     "text": [
      "Slicing by init\n",
      "Taking Ensemble Average\n"
     ]
    }
   ],
   "source": [
    "ufs_ds = ufs_data_reader.retrieve(\n",
    "    var = 'slp',\n",
    "    time=time_range,\n",
    "    ens_avg=True\n",
    ") "
   ]
  },
  {
   "cell_type": "markdown",
   "id": "b7027c98-e868-4bac-9c88-975253b3e60f",
   "metadata": {},
   "source": [
    "<h3>Calculate NAO Index</h3> "
   ]
  },
  {
   "cell_type": "code",
   "execution_count": 27,
   "id": "9b88068b-cbd6-4e0e-b0b7-8d10a89c8182",
   "metadata": {},
   "outputs": [],
   "source": [
    "fcstnao = ufs_ds['slp'].sel(lat = 65,lon = 331.2, method = 'nearest')-ufs_ds['slp'].sel(lat = 37.7,lon = 334.3, method = 'nearest')"
   ]
  },
  {
   "cell_type": "markdown",
   "id": "20d479f7-fd5b-4c2b-9207-4a64949129e1",
   "metadata": {},
   "source": [
    "<h3>Calculate anomalies and normalize them</h3>\n",
    "Normalization is the standard deviation from each month (to be implemented)"
   ]
  },
  {
   "cell_type": "code",
   "execution_count": 30,
   "id": "3952ee11-a935-4071-aeb0-622a95cf6000",
   "metadata": {},
   "outputs": [],
   "source": [
    "fcst_cpc = HindcastEnsemble(fcstnao.load())\n",
    "fcst_cpc = fcst_cpc.add_observations(verifnao.load().rename('slp'))\n",
    "fcst_cpc = fcst_cpc.remove_seasonality(\"month\")"
   ]
  },
  {
   "cell_type": "markdown",
   "id": "369afe60-905a-4893-addf-2f96cf8dec44",
   "metadata": {},
   "source": [
    "<h3>Calculate anomaly correlation and plot it</h3>"
   ]
  },
  {
   "cell_type": "code",
   "execution_count": 31,
   "id": "b5b83ba1-5f9e-4482-9c60-e917b027ad9f",
   "metadata": {},
   "outputs": [],
   "source": [
    "result_cpc_acc = fcst_cpc.verify(metric='acc',comparison='e2o',dim='init',alignment='maximize',groupby='month')"
   ]
  },
  {
   "cell_type": "code",
   "execution_count": 32,
   "id": "996f226a-6c52-44e6-a49c-e862f50f60be",
   "metadata": {},
   "outputs": [],
   "source": [
    "skill_cpc_acc = np.empty([12, 12])\n",
    "skill_cpc_acc.fill(np.nan)\n",
    "skill_cpc_acc[:,4] = result_cpc_acc['slp'][0,:]\n",
    "skill_cpc_acc[:,11] = result_cpc_acc['slp'][1,:]"
   ]
  },
  {
   "cell_type": "code",
   "execution_count": 34,
   "id": "44b6c924-994f-4631-98b6-e53793fa0c15",
   "metadata": {},
   "outputs": [
    {
     "data": {
      "text/plain": [
       "Text(0, 0.5, 'Lead Time (Months)')"
      ]
     },
     "execution_count": 34,
     "metadata": {},
     "output_type": "execute_result"
    },
    {
     "data": {
      "image/png": "[encoded data removed]",
      "text/plain": [
       "<Figure size 640x480 with 2 Axes>"
      ]
     },
     "metadata": {},
     "output_type": "display_data"
    }
   ],
   "source": [
    "fig,ax = plt.subplots()\n",
    "pcm = ax.pcolormesh(skill_cpc_acc,cmap=plt.cm.YlOrRd,vmin=-0.4,vmax=1.0)\n",
    "fig.colorbar(pcm,ax = ax)\n",
    "ax.set_yticks(np.arange(0,12,2))\n",
    "plt.title(\"SFS CPC ICs NAO Index ACC\")\n",
    "plt.xlabel(\"Initial Month\")\n",
    "plt.ylabel(\"Lead Time (Months)\")"
   ]
  },
  {
   "cell_type": "code",
   "execution_count": 38,
   "id": "2049d3d3-649f-4e34-b5c6-0ddc3118058d",
   "metadata": {},
   "outputs": [
    {
     "data": {
      "text/plain": [
       "Text(0, 0.5, 'ACC')"
      ]
     },
     "execution_count": 38,
     "metadata": {},
     "output_type": "execute_result"
    },
    {
     "data": {
      "image/png": "[encoded data removed]",
      "text/plain": [
       "<Figure size 640x480 with 1 Axes>"
      ]
     },
     "metadata": {},
     "output_type": "display_data"
    }
   ],
   "source": [
    "w,x = 0.4,np.arange(len(result_acc.lead))\n",
    "fig, ax = plt.subplots()\n",
    "ax.bar(x-w/2,result_cpc_acc.slp[:,0:4].mean(dim='month').to_series(),width=w,label='CPC ICs')\n",
    "ax.bar(x+w/2,result_acc.slp.mean(dim='month').to_series(),width=w,label='Baseline')\n",
    "ax.set_xticks(np.arange(len(result_acc.lead)))\n",
    "ax.legend()\n",
    "plt.title(\"SFS NAO Index ACC\")\n",
    "plt.xlabel(\"Lead (Month)\")\n",
    "plt.ylabel(\"ACC\")"
   ]
  },
  {
   "cell_type": "code",
   "execution_count": null,
   "id": "d5538406-5f54-4dcd-8484-e1ea3b6b5eba",
   "metadata": {},
   "outputs": [],
   "source": []
  }
 ],
 "metadata": {
  "kernelspec": {
   "display_name": "ufs_client",
   "language": "python",
   "name": "ufs_client"
  },
  "language_info": {
   "codemirror_mode": {
    "name": "ipython",
    "version": 3
   },
   "file_extension": ".py",
   "mimetype": "text/x-python",
   "name": "python",
   "nbconvert_exporter": "python",
   "pygments_lexer": "ipython3",
   "version": "3.11.11"
  }
 },
 "nbformat": 4,
 "nbformat_minor": 5
}
